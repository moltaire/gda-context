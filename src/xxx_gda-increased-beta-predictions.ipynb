{
 "cells": [
  {
   "cell_type": "code",
   "execution_count": 1,
   "metadata": {},
   "outputs": [],
   "source": [
    "import logging\n",
    "import warnings\n",
    "from os.path import join\n",
    "\n",
    "import matplotlib\n",
    "import matplotlib.pyplot as plt\n",
    "import numpy as np\n",
    "import pandas as pd\n",
    "import pymc3 as pm\n",
    "from arviz import summary\n",
    "from tqdm.notebook import tqdm\n",
    "\n",
    "from analysis.bayescorr import runBayesCorr\n",
    "from analysis.utilities import makeDirIfNeeded\n",
    "from behavioural_models.models import Glickman1Layer\n",
    "from plotting.plot_share import lm\n",
    "from plotting.plot_utils import *\n",
    "\n",
    "#% Preparations and settings\n",
    "warnings.filterwarnings(\"ignore\")\n",
    "\n",
    "logger = logging.getLogger(\"pymc3\")\n",
    "logger.setLevel(logging.ERROR)\n",
    "\n",
    "# Random seed\n",
    "SEED = 2079\n",
    "np.random.seed(SEED)\n",
    "\n",
    "# Plot settings\n",
    "palette = [\n",
    "    \"slategray\",\n",
    "    \"darksalmon\",\n",
    "    \"mediumaquamarine\",\n",
    "    \"indianred\",\n",
    "    \"paleturquoise\",\n",
    "    \"lightpink\",\n",
    "    \"tan\",\n",
    "    \"orchid\",\n",
    "]\n",
    "matplotlib = set_mpl_defaults(matplotlib)\n",
    "\n",
    "# MCMC settings (passed on to pm.sample)\n",
    "sample_kwargs = {\"cores\": 1, \"random_seed\": SEED, \"progressbar\": False}\n",
    "\n",
    "# Directories\n",
    "DATA_DIR = join(\"..\", \"results\", \"0-clean_data\")\n",
    "RESULTS_DIR = join(\"..\", \"results\")\n",
    "OUTPUT_DIR = join(\"..\", \"results\", \"S_supplemental-gda-increased-softmax-beta\")\n",
    "makeDirIfNeeded(OUTPUT_DIR)"
   ]
  },
  {
   "cell_type": "code",
   "execution_count": 2,
   "metadata": {},
   "outputs": [],
   "source": [
    "# Load trial data\n",
    "trials = pd.read_csv(join(DATA_DIR, \"trials_with-dwells.csv\"), index_col=0)\n",
    "\n",
    "# Load fixation data\n",
    "fixations = pd.read_csv(join(DATA_DIR, \"fixations.csv\"), index_col=0)\n",
    "fixations[\"duration\"] /= 1000\n",
    "\n",
    "# 0. Processing of behavioural and fixation data, so that they fit the model code\n",
    "# -------------------------------------------------------------------------------\n",
    "\n",
    "# For each trial, extract fixated alternatives and fixation durations\n",
    "# Note that a trial might have missing eyetracking data\n",
    "# fixations['alternative'] is coded as \"A\", \"B\", \"C\". We need to change this to 0, 1, 2\n",
    "fixations[\"alternative\"] = pd.Categorical(\n",
    "    fixations[\"alternative\"], categories=[\"A\", \"B\", \"C\"]\n",
    ").codes\n",
    "fixations[\"attribute\"] = pd.Categorical(\n",
    "    fixations[\"attribute\"], categories=[\"p\", \"m\"]\n",
    ").codes\n",
    "# For each trial, make a list of fixated_alternatives and fixation durations\n",
    "fixated_alternatives = (\n",
    "    fixations.groupby([\"subject\", \"trial\"])[\"alternative\"]\n",
    "    .apply(lambda x: np.array(x))\n",
    "    .rename(\"fixated_alternatives\")\n",
    "    .reset_index()\n",
    ")\n",
    "# For each trial, make a list of fixated_alternatives and fixation durations\n",
    "fixated_attributes = (\n",
    "    fixations.groupby([\"subject\", \"trial\"])[\"attribute\"]\n",
    "    .apply(lambda x: np.array(x))\n",
    "    .rename(\"fixated_attributes\")\n",
    "    .reset_index()\n",
    ")\n",
    "fixation_durations = (\n",
    "    fixations.groupby([\"subject\", \"trial\"])[\"duration\"]\n",
    "    .apply(lambda x: np.array(x))\n",
    "    .rename(\"fixation_durations\")\n",
    "    .reset_index()\n",
    ")\n",
    "# And merge them into the trial data\n",
    "trials = trials.merge(fixated_alternatives, on=[\"subject\", \"trial\"], how=\"left\")\n",
    "trials = trials.merge(fixated_attributes, on=[\"subject\", \"trial\"], how=\"left\")\n",
    "trials = trials.merge(fixation_durations, on=[\"subject\", \"trial\"], how=\"left\")\n",
    "# Recode choices into numeric\n",
    "trials[\"choice\"] = pd.Categorical(trials[\"choice\"], categories=[\"A\", \"B\", \"C\"]).codes"
   ]
  },
  {
   "cell_type": "code",
   "execution_count": 3,
   "metadata": {},
   "outputs": [],
   "source": [
    "# Load estimates and BICs\n",
    "estimates = pd.read_csv(\n",
    "    join(RESULTS_DIR, \"3-behavioural-modeling\", \"estimates\", \"estimates_de1.csv\"),\n",
    "    index_col=0,\n",
    ").reset_index(drop=True)"
   ]
  },
  {
   "cell_type": "code",
   "execution_count": 4,
   "metadata": {},
   "outputs": [
    {
     "name": "stdout",
     "output_type": "stream",
     "text": [
      "beta_multiplier: 1\n"
     ]
    },
    {
     "data": {
      "application/vnd.jupyter.widget-view+json": {
       "model_id": "b8a0ab33bbcc4fff8f2b35c4fd6f242b",
       "version_major": 2,
       "version_minor": 0
      },
      "text/plain": [
       "  0%|          | 0/40 [00:00<?, ?it/s]"
      ]
     },
     "metadata": {},
     "output_type": "display_data"
    },
    {
     "name": "stdout",
     "output_type": "stream",
     "text": [
      "beta_multiplier: 1.5\n"
     ]
    },
    {
     "data": {
      "application/vnd.jupyter.widget-view+json": {
       "model_id": "0675981e006042628003f76d41655b57",
       "version_major": 2,
       "version_minor": 0
      },
      "text/plain": [
       "  0%|          | 0/40 [00:00<?, ?it/s]"
      ]
     },
     "metadata": {},
     "output_type": "display_data"
    },
    {
     "name": "stdout",
     "output_type": "stream",
     "text": [
      "beta_multiplier: 2\n"
     ]
    },
    {
     "data": {
      "application/vnd.jupyter.widget-view+json": {
       "model_id": "0ba10e494dcd470eb11ba76a11ba2fb3",
       "version_major": 2,
       "version_minor": 0
      },
      "text/plain": [
       "  0%|          | 0/40 [00:00<?, ?it/s]"
      ]
     },
     "metadata": {},
     "output_type": "display_data"
    },
    {
     "name": "stdout",
     "output_type": "stream",
     "text": [
      "beta_multiplier: 3\n"
     ]
    },
    {
     "data": {
      "application/vnd.jupyter.widget-view+json": {
       "model_id": "f6ace107e4f0470bbb30bf40aacaca0d",
       "version_major": 2,
       "version_minor": 0
      },
      "text/plain": [
       "  0%|          | 0/40 [00:00<?, ?it/s]"
      ]
     },
     "metadata": {},
     "output_type": "display_data"
    }
   ],
   "source": [
    "n_sims = 50  # number of simulations per trial\n",
    "\n",
    "# Read GLA estimates\n",
    "estimates = estimates.loc[estimates[\"model\"] == \"glickman1layer\"].reset_index(drop=True)\n",
    "subjects = estimates[\"subject\"].unique()\n",
    "predictions = []\n",
    "\n",
    "# increase beta by some factor\n",
    "beta_multipliers = [1, 1.5, 2, 3]\n",
    "for beta_multiplier in beta_multipliers:\n",
    "    print(f\"beta_multiplier: {beta_multiplier}\")\n",
    "    for subject in tqdm(subjects):\n",
    "\n",
    "        # set up model and attach data\n",
    "        subject_data = trials.loc[trials[\"subject\"] == subject].copy()\n",
    "        subject_model = Glickman1Layer(data=subject_data)\n",
    "        subject_model.subject = subject\n",
    "\n",
    "        # simulate choices\n",
    "        subject_estimates = [\n",
    "            estimates.loc[estimates[\"subject\"] == subject, parameter].values[0]\n",
    "            if parameter != \"beta\"\n",
    "            else beta_multiplier\n",
    "            * estimates.loc[estimates[\"subject\"] == subject, parameter].values[0]\n",
    "            for parameter in subject_model.parameter_names\n",
    "        ]\n",
    "\n",
    "        for rep in range(n_sims):\n",
    "            predicted_choices = subject_model.simulate_choices(\n",
    "                parameters=subject_estimates\n",
    "            )\n",
    "            predicted_choiceprobs = subject_model.predict_choiceprobs(\n",
    "                parameters=subject_estimates\n",
    "            )\n",
    "            predictions_rep_df = subject_model.data.copy()\n",
    "            predictions_rep_df[\"predicted_choice\"] = predicted_choices\n",
    "            for i, option in enumerate([\"A\", \"B\", \"C\"]):\n",
    "                predictions_rep_df[\n",
    "                    f\"predicted_choiceprob_{option}\"\n",
    "                ] = predicted_choiceprobs[:, i]\n",
    "            predictions_rep_df[\"model\"] = \"glickman1layer\"\n",
    "            predictions_rep_df[\"rep\"] = rep\n",
    "            for p, parameter in enumerate(subject_model.parameter_names):\n",
    "                predictions_rep_df[parameter] = subject_estimates[p]\n",
    "            predictions_rep_df[\"beta_multiplier\"] = beta_multiplier\n",
    "            predictions.append(\n",
    "                predictions_rep_df[\n",
    "                    [\n",
    "                        \"subject\",\n",
    "                        \"trial\",\n",
    "                        \"effect\",\n",
    "                        \"target\",\n",
    "                        \"choice\",\n",
    "                        \"choice_tcd\",\n",
    "                        \"pA\",\n",
    "                        \"pB\",\n",
    "                        \"pC\",\n",
    "                        \"mA\",\n",
    "                        \"mB\",\n",
    "                        \"mC\",\n",
    "                        \"predicted_choice\",\n",
    "                        \"predicted_choiceprob_A\",\n",
    "                        \"predicted_choiceprob_B\",\n",
    "                        \"predicted_choiceprob_C\",\n",
    "                        \"rep\",\n",
    "                        \"beta_multiplier\",\n",
    "                    ]\n",
    "                    + subject_model.parameter_names\n",
    "                ]\n",
    "            )\n",
    "\n",
    "predictions = pd.concat(predictions)\n",
    "\n",
    "## Add `choice_tcd` variable to predicted data\n",
    "predictions[\"choice_tcd\"] = np.where(\n",
    "    pd.isnull(predictions[\"target\"]),\n",
    "    np.nan,\n",
    "    np.where(\n",
    "        predictions[\"predicted_choice\"] == 2,\n",
    "        \"decoy\",\n",
    "        np.where(\n",
    "            ((predictions[\"predicted_choice\"] == 0) & (predictions[\"target\"] == \"A\"))\n",
    "            | ((predictions[\"predicted_choice\"] == 1) & (predictions[\"target\"] == \"B\")),\n",
    "            \"target\",\n",
    "            \"competitor\",\n",
    "        ),\n",
    "    ),\n",
    ")\n",
    "predictions.to_csv(join(OUTPUT_DIR, \"GLA-predictions_increased-beta.csv\"))"
   ]
  },
  {
   "cell_type": "code",
   "execution_count": 5,
   "metadata": {},
   "outputs": [],
   "source": [
    "def lmr_plot(\n",
    "    x,\n",
    "    y,\n",
    "    ax=None,\n",
    "    lm_kwargs={},\n",
    "    sample_kwargs={\"cores\": 1},\n",
    "    annotation_pos=\"lower right\",\n",
    "):\n",
    "    \"\"\"Make a scatterplot with Bayesian linear regression and Bayesian correlation annotations.\"\"\"\n",
    "\n",
    "    if ax is None:\n",
    "        ax = plt.gca()\n",
    "\n",
    "    # Linear Model\n",
    "    ax, lm_trace, lm_summary = lm(\n",
    "        x=x, y=y, ax=ax, **lm_kwargs, sample_kwargs=sample_kwargs,\n",
    "    )\n",
    "\n",
    "    # Correlation\n",
    "    corr_trace = runBayesCorr(y1=x, y2=y, sample_kwargs=sample_kwargs)\n",
    "    corr_summary = summary(corr_trace, hdi_prob=0.95)\n",
    "\n",
    "    # Annotation\n",
    "    stat_str = (\n",
    "        f\"r = {corr_summary.loc['r', 'mean']:.2f} [{corr_summary.loc['r', 'hdi_2.5%']:.2f}, {corr_summary.loc['r', 'hdi_97.5%']:.2f}]\"\n",
    "        + \"\\n\"\n",
    "        + f\"Intercept = {lm_summary.loc['Intercept', 'mean']:.2f} [{lm_summary.loc['Intercept', 'hdi_2.5%']:.2f}, {lm_summary.loc['Intercept', 'hdi_97.5%']:.2f}]\"\n",
    "        + \"\\n\"\n",
    "        + f\"Slope = {lm_summary.loc['x', 'mean']:.2f} [{lm_summary.loc['x', 'hdi_2.5%']:.2f}, {lm_summary.loc['x', 'hdi_97.5%']:.2f}]\"\n",
    "    )\n",
    "\n",
    "    if \"right\" in annotation_pos:\n",
    "        x = 1\n",
    "        ma = \"right\"\n",
    "        ha = \"right\"\n",
    "    elif \"left\" in annotation_pos:\n",
    "        x = 0.05\n",
    "        ma = \"left\"\n",
    "        ha = \"left\"\n",
    "\n",
    "    if \"lower\" in annotation_pos:\n",
    "        y = 0.05\n",
    "        va = \"bottom\"\n",
    "    elif \"upper\" in annotation_pos:\n",
    "        y = 1\n",
    "        va = \"top\"\n",
    "\n",
    "    ax.annotate(\n",
    "        stat_str, [x, y], ma=ma, ha=ha, va=va, fontsize=4, xycoords=\"axes fraction\",\n",
    "    )\n",
    "\n",
    "    # Despine\n",
    "    for side in [\"top\", \"right\"]:\n",
    "        ax.spines[side].set_visible(False)\n",
    "\n",
    "    return ax"
   ]
  },
  {
   "cell_type": "code",
   "execution_count": 6,
   "metadata": {},
   "outputs": [],
   "source": [
    "def calc_rst(df, effect=\"attraction\"):\n",
    "    \"\"\"Calculate RST.\n",
    "    \n",
    "    Parameters\n",
    "    ----------\n",
    "    df : pandas.DataFrame\n",
    "        trial DataFrame, containing columns `subject`, `effect`, `choice_tcd`\n",
    "    effect : str, one of ['attraction', 'compromise'], optional\n",
    "        which effect to look at, by default 'attraction'\n",
    "    \n",
    "    Returns\n",
    "    -------\n",
    "    pandas.Series\n",
    "        subject-wise RSTs\n",
    "    \"\"\"\n",
    "    cs = (\n",
    "        df.loc[df[\"effect\"] == effect]\n",
    "        .groupby(\"subject\")[\"choice_tcd\"]\n",
    "        .value_counts()\n",
    "        .rename(\"frequency\")\n",
    "        .reset_index()\n",
    "        .pivot_table(index=\"subject\", values=\"frequency\", columns=\"choice_tcd\")\n",
    "        .fillna(0)\n",
    "    )\n",
    "    cs[\"rst\"] = cs[\"target\"] / (cs[\"target\"] + cs[\"competitor\"])\n",
    "    return cs[\"rst\"]"
   ]
  },
  {
   "cell_type": "code",
   "execution_count": 10,
   "metadata": {},
   "outputs": [
    {
     "name": "stdout",
     "output_type": "stream",
     "text": [
      "Beta estimates multiplied by 1...\n",
      "  Attraction\n",
      "  Compromise\n",
      "Beta estimates multiplied by 1.5...\n",
      "  Attraction\n"
     ]
    },
    {
     "name": "stderr",
     "output_type": "stream",
     "text": [
      "There was 1 divergence after tuning. Increase `target_accept` or reparameterize.\n"
     ]
    },
    {
     "name": "stdout",
     "output_type": "stream",
     "text": [
      "  Compromise\n",
      "Beta estimates multiplied by 2...\n",
      "  Attraction\n",
      "  Compromise\n",
      "Beta estimates multiplied by 3...\n",
      "  Attraction\n"
     ]
    },
    {
     "name": "stderr",
     "output_type": "stream",
     "text": [
      "There was 1 divergence after tuning. Increase `target_accept` or reparameterize.\n",
      "There were 7 divergences after tuning. Increase `target_accept` or reparameterize.\n"
     ]
    },
    {
     "name": "stdout",
     "output_type": "stream",
     "text": [
      "  Compromise\n"
     ]
    },
    {
     "data": {
      "image/png": "[encoded data removed]",
      "text/plain": [
       "<Figure size 510.236x255.118 with 8 Axes>"
      ]
     },
     "metadata": {
      "needs_background": "light"
     },
     "output_type": "display_data"
    }
   ],
   "source": [
    "lm_kwargs = dict(xrange=(0, 1), line_color=\"lightgray\")\n",
    "\n",
    "cmap = plt.cm.get_cmap(\"viridis\")\n",
    "\n",
    "fig, axs = plt.subplots(\n",
    "    2,\n",
    "    len(beta_multipliers),\n",
    "    figsize=cm2inch(18, 2 * 18 / len(beta_multipliers)),\n",
    "    sharey=\"row\",\n",
    "    sharex=\"col\",\n",
    ")\n",
    "\n",
    "for i, beta_multiplier in enumerate(beta_multipliers):\n",
    "\n",
    "    print(f\"Beta estimates multiplied by {beta_multiplier}...\")\n",
    "\n",
    "    color = cmap(i / (len(beta_multipliers) - 1))\n",
    "    lm_kwargs.update(scatter_color=color)\n",
    "\n",
    "    for e, effect in enumerate([\"attraction\", \"compromise\"]):\n",
    "        print(f\"  {effect.capitalize()}\")\n",
    "        ax = axs[e, i]\n",
    "\n",
    "        # Calculate observed RDT and model predicted RST\n",
    "        rst_obs = calc_rst(trials, effect=effect)\n",
    "        rst_pred = calc_rst(\n",
    "            predictions.loc[predictions[\"beta_multiplier\"] == beta_multiplier],\n",
    "            effect=effect,\n",
    "        )\n",
    "\n",
    "        # Run linear model\n",
    "        ax = lmr_plot(\n",
    "            rst_obs, rst_pred, ax=ax, lm_kwargs=lm_kwargs, sample_kwargs=sample_kwargs\n",
    "        )\n",
    "\n",
    "        # Annotations\n",
    "        ## Diagonal for perfect prediction\n",
    "        ax.plot([0, 1], [0, 1], linewidth=0.5, color=\"gray\", zorder=-1)\n",
    "\n",
    "        # Y-axis\n",
    "        ax.set_yticks(np.arange(0, 1.1, 0.25))\n",
    "        ax.set_ylim(0, 1)\n",
    "\n",
    "        # X axis\n",
    "        ax.set_xticks(np.arange(0, 1.1, 0.25))\n",
    "        ax.set_xlim(0, 1)\n",
    "\n",
    "        # Labels\n",
    "        if e == 0:\n",
    "            ax.set_title(\n",
    "                f\"{beta_multiplier}\" + r\"$\\times \\hat{\\beta}$\"\n",
    "            )\n",
    "        if e == 1:\n",
    "            ax.set_xlabel(\"observed RST\")\n",
    "        if i == 0:\n",
    "            ax.set_ylabel(f\"{effect.capitalize()}\\n\\nGLA predicted RST\")\n",
    "\n",
    "# Save figure\n",
    "plt.tight_layout()\n",
    "plt.savefig(\n",
    "    join(OUTPUT_DIR, f\"rst_gla-pred-rst_by-beta-multiplier.pdf\"), bbox_inches=\"tight\"\n",
    ")"
   ]
  },
  {
   "cell_type": "code",
   "execution_count": null,
   "metadata": {},
   "outputs": [],
   "source": []
  }
 ],
 "metadata": {
  "kernelspec": {
   "display_name": "Python 3",
   "language": "python",
   "name": "python3"
  },
  "language_info": {
   "codemirror_mode": {
    "name": "ipython",
    "version": 3
   },
   "file_extension": ".py",
   "mimetype": "text/x-python",
   "name": "python",
   "nbconvert_exporter": "python",
   "pygments_lexer": "ipython3",
   "version": "3.7.9"
  }
 },
 "nbformat": 4,
 "nbformat_minor": 4
}
