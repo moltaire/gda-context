{
 "cells": [
  {
   "cell_type": "code",
   "execution_count": 1,
   "metadata": {},
   "outputs": [],
   "source": [
    "from os import listdir\n",
    "from os.path import join\n",
    "\n",
    "import numpy as np\n",
    "import pandas as pd\n",
    "\n",
    "import behavioural_models as bm"
   ]
  },
  {
   "cell_type": "code",
   "execution_count": 49,
   "metadata": {},
   "outputs": [],
   "source": [
    "models = [\n",
    "    bm.models.ExpectedUtility,\n",
    "    bm.models.ProspectTheory,\n",
    "    bm.mdft.MDFT,\n",
    "    bm.models.GazeBaselineStat,\n",
    "    bm.models.GazeBaselineDyn,\n",
    "    bm.models.Glickman1Layer,\n",
    "]"
   ]
  },
  {
   "cell_type": "markdown",
   "metadata": {},
   "source": [
    "# Create synthetic DataFrame\n",
    "\n",
    "For each real participant, we create data from $n$ synthetic agents, where $n$ is the number of models included.\n",
    "Each synthetic data set has the same size as that of a real participant (i.e., 225 trials)."
   ]
  },
  {
   "cell_type": "code",
   "execution_count": 4,
   "metadata": {},
   "outputs": [],
   "source": [
    "dummy_data = pd.read_csv(\n",
    "    join(\n",
    "        \"..\",\n",
    "        \"results\",\n",
    "        \"3-behavioural-modeling\",\n",
    "        \"predictions\",\n",
    "        \"eu\",\n",
    "        \"predictions_eu_1_de1.csv\",\n",
    "    )\n",
    ")"
   ]
  },
  {
   "cell_type": "code",
   "execution_count": 41,
   "metadata": {},
   "outputs": [
    {
     "name": "stdout",
     "output_type": "stream",
     "text": [
      "eu\t\t40\n",
      "pt\t\t40\n",
      "mdft\t\t40\n",
      "gaze-baseline-stat\t\t40\n",
      "gaze-baseline-dyn\t\t40\n",
      "glickman1layer\t\t40\n"
     ]
    }
   ],
   "source": [
    "# Build a dataframe with synthetic data from model predictions\n",
    "# This dataframe will be len(models) times as large as the original dataframe,\n",
    "# because for each real participant, len(models) new participants are generated\n",
    "trials_synth = []\n",
    "\n",
    "for m, model in enumerate(models):\n",
    "\n",
    "    model_instance = model(data=dummy_data)\n",
    "    model_label = model_instance.label.lower()\n",
    "\n",
    "    files = [\n",
    "        file\n",
    "        for file in listdir(\n",
    "            join(\"..\", \"results\", \"3-behavioural-modeling\", \"estimates\", model_label)\n",
    "        )\n",
    "        if file.endswith(\".csv\")\n",
    "    ]\n",
    "\n",
    "    for file in files:\n",
    "\n",
    "        _, _, subject, label = file.split(\"_\")\n",
    "        label = label.split(\".\")[0]\n",
    "        new_subject = \"-\".join([subject, model_label])\n",
    "\n",
    "        # Read model-predictions and select only the first simulation (`rep == 0`)\n",
    "        pred_s = pd.read_csv(\n",
    "            join(\n",
    "                \"..\",\n",
    "                \"results\",\n",
    "                \"3-behavioural-modeling\",\n",
    "                \"predictions\",\n",
    "                model_label,\n",
    "                f\"predictions_{model_label}_{subject}_{label}.csv\",\n",
    "            ),\n",
    "        )\n",
    "        pred_s = pred_s.loc[pred_s[\"rep\"] == 0]\n",
    "        if len(pred_s) == 0:\n",
    "            raise ValueError(f\"Missing predictions for subject {new_subject}!\")\n",
    "        pred_s[\"subject\"] = new_subject\n",
    "\n",
    "        # Read estimates (= generating parameters)\n",
    "        est_s = pd.read_csv(\n",
    "            join(\n",
    "                \"..\",\n",
    "                \"results\",\n",
    "                \"3-behavioural-modeling\",\n",
    "                \"estimates\",\n",
    "                model_label,\n",
    "                f\"estimates_{model_label}_{subject}_{label}.csv\",\n",
    "            ),\n",
    "            index_col=0,\n",
    "        )\n",
    "        for parameter in model_instance.parameter_names:\n",
    "            pred_s[parameter + \"_gen\"] = est_s[parameter].values[0]\n",
    "\n",
    "        ## Add estimates to prediction DataFrame\n",
    "        # Add to synthetic DataFrame\n",
    "        trials_synth.append(pred_s)\n",
    "\n",
    "trials_synth = (\n",
    "    pd.concat(trials_synth)\n",
    "    .reset_index(drop=True)\n",
    "    .drop(\n",
    "        [\n",
    "            \"key\",\n",
    "            \"choice\",\n",
    "            \"choice_tcd\",\n",
    "            \"rt\",\n",
    "            \"model\",\n",
    "            \"rep\",\n",
    "            \"pos_A\",\n",
    "            \"pos_B\",\n",
    "            \"pos_C\",\n",
    "            \"pA_top\",\n",
    "            \"pB_top\",\n",
    "            \"pC_top\",\n",
    "        ],\n",
    "        axis=1,\n",
    "    )\n",
    "    .rename({\"predicted_choice\": \"choice\"}, axis=1)\n",
    ")"
   ]
  },
  {
   "cell_type": "code",
   "execution_count": 42,
   "metadata": {},
   "outputs": [
    {
     "data": {
      "text/plain": [
       "240"
      ]
     },
     "execution_count": 42,
     "metadata": {},
     "output_type": "execute_result"
    }
   ],
   "source": [
    "len(trials_synth[\"subject\"].unique())"
   ]
  },
  {
   "cell_type": "code",
   "execution_count": 43,
   "metadata": {},
   "outputs": [
    {
     "data": {
      "text/html": [
       "<div>\n",
       "<style scoped>\n",
       "    .dataframe tbody tr th:only-of-type {\n",
       "        vertical-align: middle;\n",
       "    }\n",
       "\n",
       "    .dataframe tbody tr th {\n",
       "        vertical-align: top;\n",
       "    }\n",
       "\n",
       "    .dataframe thead th {\n",
       "        text-align: right;\n",
       "    }\n",
       "</style>\n",
       "<table border=\"1\" class=\"dataframe\">\n",
       "  <thead>\n",
       "    <tr style=\"text-align: right;\">\n",
       "      <th></th>\n",
       "      <th>subject</th>\n",
       "      <th>block</th>\n",
       "      <th>trial</th>\n",
       "      <th>effect</th>\n",
       "      <th>target</th>\n",
       "      <th>pA</th>\n",
       "      <th>pB</th>\n",
       "      <th>pC</th>\n",
       "      <th>mA</th>\n",
       "      <th>mB</th>\n",
       "      <th>...</th>\n",
       "      <th>alpha_gen</th>\n",
       "      <th>beta_gen</th>\n",
       "      <th>gamma_gen</th>\n",
       "      <th>w_gen</th>\n",
       "      <th>wd_gen</th>\n",
       "      <th>phi1_gen</th>\n",
       "      <th>phi2_gen</th>\n",
       "      <th>sig2_gen</th>\n",
       "      <th>lam_gen</th>\n",
       "      <th>theta_gen</th>\n",
       "    </tr>\n",
       "  </thead>\n",
       "  <tbody>\n",
       "    <tr>\n",
       "      <th>53929</th>\n",
       "      <td>42-glickman1layer</td>\n",
       "      <td>3</td>\n",
       "      <td>221</td>\n",
       "      <td>attraction</td>\n",
       "      <td>A</td>\n",
       "      <td>0.72</td>\n",
       "      <td>0.65</td>\n",
       "      <td>0.70</td>\n",
       "      <td>10</td>\n",
       "      <td>14</td>\n",
       "      <td>...</td>\n",
       "      <td>0.486475</td>\n",
       "      <td>4.145332</td>\n",
       "      <td>0.456715</td>\n",
       "      <td>NaN</td>\n",
       "      <td>NaN</td>\n",
       "      <td>NaN</td>\n",
       "      <td>NaN</td>\n",
       "      <td>NaN</td>\n",
       "      <td>0.296674</td>\n",
       "      <td>0.69392</td>\n",
       "    </tr>\n",
       "    <tr>\n",
       "      <th>53930</th>\n",
       "      <td>42-glickman1layer</td>\n",
       "      <td>3</td>\n",
       "      <td>222</td>\n",
       "      <td>attraction</td>\n",
       "      <td>B</td>\n",
       "      <td>0.75</td>\n",
       "      <td>0.65</td>\n",
       "      <td>0.63</td>\n",
       "      <td>10</td>\n",
       "      <td>14</td>\n",
       "      <td>...</td>\n",
       "      <td>0.486475</td>\n",
       "      <td>4.145332</td>\n",
       "      <td>0.456715</td>\n",
       "      <td>NaN</td>\n",
       "      <td>NaN</td>\n",
       "      <td>NaN</td>\n",
       "      <td>NaN</td>\n",
       "      <td>NaN</td>\n",
       "      <td>0.296674</td>\n",
       "      <td>0.69392</td>\n",
       "    </tr>\n",
       "    <tr>\n",
       "      <th>53931</th>\n",
       "      <td>42-glickman1layer</td>\n",
       "      <td>3</td>\n",
       "      <td>223</td>\n",
       "      <td>attraction</td>\n",
       "      <td>B</td>\n",
       "      <td>0.78</td>\n",
       "      <td>0.65</td>\n",
       "      <td>0.63</td>\n",
       "      <td>11</td>\n",
       "      <td>15</td>\n",
       "      <td>...</td>\n",
       "      <td>0.486475</td>\n",
       "      <td>4.145332</td>\n",
       "      <td>0.456715</td>\n",
       "      <td>NaN</td>\n",
       "      <td>NaN</td>\n",
       "      <td>NaN</td>\n",
       "      <td>NaN</td>\n",
       "      <td>NaN</td>\n",
       "      <td>0.296674</td>\n",
       "      <td>0.69392</td>\n",
       "    </tr>\n",
       "    <tr>\n",
       "      <th>53932</th>\n",
       "      <td>42-glickman1layer</td>\n",
       "      <td>3</td>\n",
       "      <td>224</td>\n",
       "      <td>compromise</td>\n",
       "      <td>A</td>\n",
       "      <td>0.78</td>\n",
       "      <td>0.62</td>\n",
       "      <td>0.85</td>\n",
       "      <td>10</td>\n",
       "      <td>15</td>\n",
       "      <td>...</td>\n",
       "      <td>0.486475</td>\n",
       "      <td>4.145332</td>\n",
       "      <td>0.456715</td>\n",
       "      <td>NaN</td>\n",
       "      <td>NaN</td>\n",
       "      <td>NaN</td>\n",
       "      <td>NaN</td>\n",
       "      <td>NaN</td>\n",
       "      <td>0.296674</td>\n",
       "      <td>0.69392</td>\n",
       "    </tr>\n",
       "    <tr>\n",
       "      <th>53933</th>\n",
       "      <td>42-glickman1layer</td>\n",
       "      <td>3</td>\n",
       "      <td>225</td>\n",
       "      <td>attraction</td>\n",
       "      <td>A</td>\n",
       "      <td>0.78</td>\n",
       "      <td>0.68</td>\n",
       "      <td>0.76</td>\n",
       "      <td>10</td>\n",
       "      <td>15</td>\n",
       "      <td>...</td>\n",
       "      <td>0.486475</td>\n",
       "      <td>4.145332</td>\n",
       "      <td>0.456715</td>\n",
       "      <td>NaN</td>\n",
       "      <td>NaN</td>\n",
       "      <td>NaN</td>\n",
       "      <td>NaN</td>\n",
       "      <td>NaN</td>\n",
       "      <td>0.296674</td>\n",
       "      <td>0.69392</td>\n",
       "    </tr>\n",
       "  </tbody>\n",
       "</table>\n",
       "<p>5 rows × 43 columns</p>\n",
       "</div>"
      ],
      "text/plain": [
       "                 subject  block  trial      effect target    pA    pB    pC  \\\n",
       "53929  42-glickman1layer      3    221  attraction      A  0.72  0.65  0.70   \n",
       "53930  42-glickman1layer      3    222  attraction      B  0.75  0.65  0.63   \n",
       "53931  42-glickman1layer      3    223  attraction      B  0.78  0.65  0.63   \n",
       "53932  42-glickman1layer      3    224  compromise      A  0.78  0.62  0.85   \n",
       "53933  42-glickman1layer      3    225  attraction      A  0.78  0.68  0.76   \n",
       "\n",
       "       mA  mB  ...  alpha_gen  beta_gen  gamma_gen  w_gen  wd_gen  phi1_gen  \\\n",
       "53929  10  14  ...   0.486475  4.145332   0.456715    NaN     NaN       NaN   \n",
       "53930  10  14  ...   0.486475  4.145332   0.456715    NaN     NaN       NaN   \n",
       "53931  11  15  ...   0.486475  4.145332   0.456715    NaN     NaN       NaN   \n",
       "53932  10  15  ...   0.486475  4.145332   0.456715    NaN     NaN       NaN   \n",
       "53933  10  15  ...   0.486475  4.145332   0.456715    NaN     NaN       NaN   \n",
       "\n",
       "       phi2_gen  sig2_gen   lam_gen  theta_gen  \n",
       "53929       NaN       NaN  0.296674    0.69392  \n",
       "53930       NaN       NaN  0.296674    0.69392  \n",
       "53931       NaN       NaN  0.296674    0.69392  \n",
       "53932       NaN       NaN  0.296674    0.69392  \n",
       "53933       NaN       NaN  0.296674    0.69392  \n",
       "\n",
       "[5 rows x 43 columns]"
      ]
     },
     "execution_count": 43,
     "metadata": {},
     "output_type": "execute_result"
    }
   ],
   "source": [
    "trials_synth.tail()"
   ]
  },
  {
   "cell_type": "code",
   "execution_count": 46,
   "metadata": {},
   "outputs": [
    {
     "name": "stdout",
     "output_type": "stream",
     "text": [
      "mkdir: ../results/S_recoveries: File exists\n"
     ]
    }
   ],
   "source": [
    "!mkdir ../results/S_recoveries"
   ]
  },
  {
   "cell_type": "code",
   "execution_count": 47,
   "metadata": {},
   "outputs": [],
   "source": [
    "trials_synth.to_csv(join(\"..\", \"results\", \"S_recoveries\", \"trials_synth.csv\"))"
   ]
  },
  {
   "cell_type": "code",
   "execution_count": 5,
   "metadata": {},
   "outputs": [],
   "source": [
    "trials_synth = pd.read_csv(\n",
    "    join(\"..\", \"results\", \"S_recoveries\", \"trials_synth.csv\"), index_col=0\n",
    ")"
   ]
  },
  {
   "cell_type": "code",
   "execution_count": 6,
   "metadata": {},
   "outputs": [
    {
     "data": {
      "text/html": [
       "<div>\n",
       "<style scoped>\n",
       "    .dataframe tbody tr th:only-of-type {\n",
       "        vertical-align: middle;\n",
       "    }\n",
       "\n",
       "    .dataframe tbody tr th {\n",
       "        vertical-align: top;\n",
       "    }\n",
       "\n",
       "    .dataframe thead th {\n",
       "        text-align: right;\n",
       "    }\n",
       "</style>\n",
       "<table border=\"1\" class=\"dataframe\">\n",
       "  <thead>\n",
       "    <tr style=\"text-align: right;\">\n",
       "      <th></th>\n",
       "      <th>subject</th>\n",
       "      <th>block</th>\n",
       "      <th>trial</th>\n",
       "      <th>effect</th>\n",
       "      <th>target</th>\n",
       "      <th>pA</th>\n",
       "      <th>pB</th>\n",
       "      <th>pC</th>\n",
       "      <th>mA</th>\n",
       "      <th>mB</th>\n",
       "      <th>...</th>\n",
       "      <th>alpha_gen</th>\n",
       "      <th>beta_gen</th>\n",
       "      <th>gamma_gen</th>\n",
       "      <th>w_gen</th>\n",
       "      <th>wd_gen</th>\n",
       "      <th>phi1_gen</th>\n",
       "      <th>phi2_gen</th>\n",
       "      <th>sig2_gen</th>\n",
       "      <th>lam_gen</th>\n",
       "      <th>theta_gen</th>\n",
       "    </tr>\n",
       "  </thead>\n",
       "  <tbody>\n",
       "    <tr>\n",
       "      <th>0</th>\n",
       "      <td>26-eu</td>\n",
       "      <td>1</td>\n",
       "      <td>1</td>\n",
       "      <td>attraction</td>\n",
       "      <td>A</td>\n",
       "      <td>0.72</td>\n",
       "      <td>0.65</td>\n",
       "      <td>0.70</td>\n",
       "      <td>11</td>\n",
       "      <td>15</td>\n",
       "      <td>...</td>\n",
       "      <td>0.329305</td>\n",
       "      <td>6.560476</td>\n",
       "      <td>NaN</td>\n",
       "      <td>NaN</td>\n",
       "      <td>NaN</td>\n",
       "      <td>NaN</td>\n",
       "      <td>NaN</td>\n",
       "      <td>NaN</td>\n",
       "      <td>NaN</td>\n",
       "      <td>NaN</td>\n",
       "    </tr>\n",
       "    <tr>\n",
       "      <th>1</th>\n",
       "      <td>26-eu</td>\n",
       "      <td>1</td>\n",
       "      <td>2</td>\n",
       "      <td>filler</td>\n",
       "      <td>NaN</td>\n",
       "      <td>0.16</td>\n",
       "      <td>0.46</td>\n",
       "      <td>0.87</td>\n",
       "      <td>62</td>\n",
       "      <td>21</td>\n",
       "      <td>...</td>\n",
       "      <td>0.329305</td>\n",
       "      <td>6.560476</td>\n",
       "      <td>NaN</td>\n",
       "      <td>NaN</td>\n",
       "      <td>NaN</td>\n",
       "      <td>NaN</td>\n",
       "      <td>NaN</td>\n",
       "      <td>NaN</td>\n",
       "      <td>NaN</td>\n",
       "      <td>NaN</td>\n",
       "    </tr>\n",
       "    <tr>\n",
       "      <th>2</th>\n",
       "      <td>26-eu</td>\n",
       "      <td>1</td>\n",
       "      <td>3</td>\n",
       "      <td>attraction</td>\n",
       "      <td>B</td>\n",
       "      <td>0.75</td>\n",
       "      <td>0.68</td>\n",
       "      <td>0.66</td>\n",
       "      <td>11</td>\n",
       "      <td>14</td>\n",
       "      <td>...</td>\n",
       "      <td>0.329305</td>\n",
       "      <td>6.560476</td>\n",
       "      <td>NaN</td>\n",
       "      <td>NaN</td>\n",
       "      <td>NaN</td>\n",
       "      <td>NaN</td>\n",
       "      <td>NaN</td>\n",
       "      <td>NaN</td>\n",
       "      <td>NaN</td>\n",
       "      <td>NaN</td>\n",
       "    </tr>\n",
       "    <tr>\n",
       "      <th>3</th>\n",
       "      <td>26-eu</td>\n",
       "      <td>1</td>\n",
       "      <td>4</td>\n",
       "      <td>compromise</td>\n",
       "      <td>B</td>\n",
       "      <td>0.72</td>\n",
       "      <td>0.62</td>\n",
       "      <td>0.58</td>\n",
       "      <td>11</td>\n",
       "      <td>14</td>\n",
       "      <td>...</td>\n",
       "      <td>0.329305</td>\n",
       "      <td>6.560476</td>\n",
       "      <td>NaN</td>\n",
       "      <td>NaN</td>\n",
       "      <td>NaN</td>\n",
       "      <td>NaN</td>\n",
       "      <td>NaN</td>\n",
       "      <td>NaN</td>\n",
       "      <td>NaN</td>\n",
       "      <td>NaN</td>\n",
       "    </tr>\n",
       "    <tr>\n",
       "      <th>4</th>\n",
       "      <td>26-eu</td>\n",
       "      <td>1</td>\n",
       "      <td>5</td>\n",
       "      <td>attraction</td>\n",
       "      <td>B</td>\n",
       "      <td>0.72</td>\n",
       "      <td>0.62</td>\n",
       "      <td>0.60</td>\n",
       "      <td>12</td>\n",
       "      <td>15</td>\n",
       "      <td>...</td>\n",
       "      <td>0.329305</td>\n",
       "      <td>6.560476</td>\n",
       "      <td>NaN</td>\n",
       "      <td>NaN</td>\n",
       "      <td>NaN</td>\n",
       "      <td>NaN</td>\n",
       "      <td>NaN</td>\n",
       "      <td>NaN</td>\n",
       "      <td>NaN</td>\n",
       "      <td>NaN</td>\n",
       "    </tr>\n",
       "  </tbody>\n",
       "</table>\n",
       "<p>5 rows × 43 columns</p>\n",
       "</div>"
      ],
      "text/plain": [
       "  subject  block  trial      effect target    pA    pB    pC  mA  mB  ...  \\\n",
       "0   26-eu      1      1  attraction      A  0.72  0.65  0.70  11  15  ...   \n",
       "1   26-eu      1      2      filler    NaN  0.16  0.46  0.87  62  21  ...   \n",
       "2   26-eu      1      3  attraction      B  0.75  0.68  0.66  11  14  ...   \n",
       "3   26-eu      1      4  compromise      B  0.72  0.62  0.58  11  14  ...   \n",
       "4   26-eu      1      5  attraction      B  0.72  0.62  0.60  12  15  ...   \n",
       "\n",
       "   alpha_gen  beta_gen  gamma_gen  w_gen  wd_gen  phi1_gen  phi2_gen  \\\n",
       "0   0.329305  6.560476        NaN    NaN     NaN       NaN       NaN   \n",
       "1   0.329305  6.560476        NaN    NaN     NaN       NaN       NaN   \n",
       "2   0.329305  6.560476        NaN    NaN     NaN       NaN       NaN   \n",
       "3   0.329305  6.560476        NaN    NaN     NaN       NaN       NaN   \n",
       "4   0.329305  6.560476        NaN    NaN     NaN       NaN       NaN   \n",
       "\n",
       "   sig2_gen  lam_gen  theta_gen  \n",
       "0       NaN      NaN        NaN  \n",
       "1       NaN      NaN        NaN  \n",
       "2       NaN      NaN        NaN  \n",
       "3       NaN      NaN        NaN  \n",
       "4       NaN      NaN        NaN  \n",
       "\n",
       "[5 rows x 43 columns]"
      ]
     },
     "execution_count": 6,
     "metadata": {},
     "output_type": "execute_result"
    }
   ],
   "source": [
    "trials_synth.head()"
   ]
  },
  {
   "cell_type": "code",
   "execution_count": 66,
   "metadata": {},
   "outputs": [
    {
     "data": {
      "text/plain": [
       "Index(['subject', 'block', 'trial', 'effect', 'target', 'pA', 'pB', 'pC', 'mA',\n",
       "       'mB', 'mC', 'dwell_A', 'dwell_B', 'dwell_C', 'dwell_p', 'dwell_m',\n",
       "       'dwell_Ap', 'dwell_Am', 'dwell_Bp', 'dwell_Bm', 'dwell_Cp', 'dwell_Cm',\n",
       "       'dwell_total', 'dwell_target', 'dwell_competitor', 'dwell_decoy',\n",
       "       'fixated_alternatives', 'fixated_attributes', 'fixation_durations',\n",
       "       'choice', 'predicted_choiceprob_A', 'predicted_choiceprob_B',\n",
       "       'predicted_choiceprob_C', 'alpha_gen', 'beta_gen', 'gamma_gen', 'w_gen',\n",
       "       'wd_gen', 'phi1_gen', 'phi2_gen', 'sig2_gen', 'lam_gen', 'theta_gen'],\n",
       "      dtype='object')"
      ]
     },
     "execution_count": 66,
     "metadata": {},
     "output_type": "execute_result"
    }
   ],
   "source": [
    "trials_synth.columns"
   ]
  },
  {
   "cell_type": "markdown",
   "metadata": {},
   "source": [
    "# Fix eye tracking columns which have arrays in them"
   ]
  },
  {
   "cell_type": "code",
   "execution_count": 70,
   "metadata": {},
   "outputs": [],
   "source": [
    "trials_synth[\"fixated_alternatives\"] = trials_synth[\"fixated_alternatives\"].apply(\n",
    "    lambda x: np.fromstring(x[1:-1], sep=\" \", dtype=int)\n",
    ")\n",
    "\n",
    "trials_synth[\"fixated_attributes\"] = trials_synth[\"fixated_attributes\"].apply(\n",
    "    lambda x: np.fromstring(x[1:-1], sep=\" \", dtype=int)\n",
    ")\n",
    "\n",
    "trials_synth[\"fixation_durations\"] = trials_synth[\"fixation_durations\"].apply(\n",
    "    lambda x: np.fromstring(x[1:-1], sep=\" \", dtype=float)\n",
    ")"
   ]
  },
  {
   "cell_type": "markdown",
   "metadata": {},
   "source": [
    "# Parameter estimation\n",
    "\n",
    "This procedure should be very similar to `3-1_behavioural-modeling_fitting.py`"
   ]
  },
  {
   "cell_type": "code",
   "execution_count": 71,
   "metadata": {},
   "outputs": [
    {
     "data": {
      "text/plain": [
       "array(['0-eu', '0-gaze-baseline-dyn', '0-gaze-baseline-stat',\n",
       "       '0-glickman1layer', '0-mdft'], dtype=object)"
      ]
     },
     "execution_count": 71,
     "metadata": {},
     "output_type": "execute_result"
    }
   ],
   "source": [
    "subjects = np.unique(trials_synth[\"subject\"])[:5]\n",
    "n_subjects = len(subjects)\n",
    "subjects"
   ]
  },
  {
   "cell_type": "code",
   "execution_count": 34,
   "metadata": {},
   "outputs": [],
   "source": [
    "def input_generator(data, subjects, models, verbose=False):\n",
    "    \"Generates subject-wise inputs to fit_subject_model function.\"\n",
    "    for model in models:\n",
    "        if VERBOSE > 0:\n",
    "            _ = model(data=data)\n",
    "            print(\"{}: Parameter estimation...\".format(_.label))\n",
    "            del _\n",
    "        for subject in subjects:\n",
    "            # Subset subject data\n",
    "            subject_data = data[data[\"subject\"] == subject].copy()\n",
    "            # Initialize model instance\n",
    "            subject_model = model(data=subject_data)\n",
    "            subject_model.subject = subject\n",
    "            # Yield everything as a tuple to input into fit_subject_model function\n",
    "            yield subject, subject_model"
   ]
  },
  {
   "cell_type": "code",
   "execution_count": 43,
   "metadata": {},
   "outputs": [],
   "source": [
    "from functools import partial\n",
    "\n",
    "N_CORES = 4\n",
    "N_RUNS = 1\n",
    "OPTMETHOD = \"differential_evolution\"\n",
    "OUTPUT_DIR = join(\"..\", \"results\", \"S_recoveries\")\n",
    "LABEL = \"\"\n",
    "SEED = 1\n",
    "OVERWRITE = True\n",
    "VERBOSE = 2"
   ]
  },
  {
   "cell_type": "code",
   "execution_count": 44,
   "metadata": {},
   "outputs": [],
   "source": [
    "def fit_subject_model(\n",
    "    variable_input,\n",
    "    n_runs=1,\n",
    "    optmethod=\"minimize\",\n",
    "    output_dir=\"\",\n",
    "    label=\"\",\n",
    "    seed=None,\n",
    "    overwrite=False,\n",
    "    verbose=False,\n",
    "):\n",
    "    \"\"\"\n",
    "    Fit single subject model.\n",
    "    variable_input is generated by input_generator() and contains\n",
    "    the subject ID, the model instance with attached data.\n",
    "    \"\"\"\n",
    "    # Unpack input\n",
    "    subject, subject_model = variable_input\n",
    "    model_label = subject_model.label.replace(\" \", \"-\").lower()\n",
    "\n",
    "    # Organize output folders\n",
    "    estimates_output_folder = join(output_dir, \"estimates\", model_label)\n",
    "    if not exists(estimates_output_folder):\n",
    "        makedirs(estimates_output_folder)\n",
    "\n",
    "    # Create output filenames\n",
    "    estimates_output_file = \"estimates_{}_{}{}.csv\".format(model_label, subject, label)\n",
    "    estimates_output_path = join(estimates_output_folder, estimates_output_file)\n",
    "    # Parameter estimation\n",
    "    if not overwrite and exists(estimates_output_path):\n",
    "        if verbose > 0:\n",
    "            print(\n",
    "                \"Found existing estimates at '{}'. Skipping estimation...\".format(\n",
    "                    estimates_output_path\n",
    "                )\n",
    "            )\n",
    "        estimates_df = pd.read_csv(estimates_output_path)\n",
    "        estimates = [\n",
    "            estimates_df[parameter].values[0]\n",
    "            for parameter in subject_model.parameter_names\n",
    "        ]\n",
    "        estimates_df[\"bic\"] = (\n",
    "            2 * estimates_df[\"nll\"]\n",
    "            + np.log(subject_model.n_trials) * subject_model.n_parameters\n",
    "        )\n",
    "    else:\n",
    "        estimates, nll = subject_model.fit(\n",
    "            method=optmethod, n_runs=n_runs, seed=seed, verbose=verbose\n",
    "        )\n",
    "        bic = 2 * nll + np.log(subject_model.n_trials) * subject_model.n_parameters\n",
    "        # Put fitting results into DataFrame row\n",
    "        estimates_df = pd.DataFrame(\n",
    "            dict(subject=subject, nll=nll, bic=bic, model=model_label), index=[subject]\n",
    "        )\n",
    "        for parameter, estimate in zip(subject_model.parameter_names, estimates):\n",
    "            estimates_df[parameter] = estimate\n",
    "        estimates_df.to_csv(estimates_output_path, index=False)\n",
    "\n",
    "    return estimates_df"
   ]
  },
  {
   "cell_type": "code",
   "execution_count": 45,
   "metadata": {},
   "outputs": [],
   "source": [
    "# Fix some arguments of the fitting function, so that it only takes subject data as argument\n",
    "fit = partial(\n",
    "    fit_subject_model,\n",
    "    n_runs=N_RUNS,\n",
    "    optmethod=OPTMETHOD,\n",
    "    output_dir=OUTPUT_DIR,\n",
    "    label=LABEL,\n",
    "    seed=SEED,\n",
    "    overwrite=OVERWRITE,\n",
    "    verbose=VERBOSE,\n",
    ")"
   ]
  },
  {
   "cell_type": "code",
   "execution_count": 46,
   "metadata": {},
   "outputs": [],
   "source": [
    "from os import makedirs\n",
    "from os.path import exists"
   ]
  },
  {
   "cell_type": "code",
   "execution_count": 47,
   "metadata": {},
   "outputs": [],
   "source": [
    "N_CORES = 1"
   ]
  },
  {
   "cell_type": "code",
   "execution_count": 50,
   "metadata": {},
   "outputs": [
    {
     "name": "stdout",
     "output_type": "stream",
     "text": [
      "EU: Parameter estimation...\n",
      "0-eu\n",
      "Subject 0-eu (1/5)\n",
      "EU\tSubject 1\tRun 1 of 1 (100%)\n",
      "0-gaze-baseline-dyn\n",
      "Subject 0-gaze-baseline-dyn (2/5)\n",
      "EU\tSubject 1\tRun 1 of 1 (100%)\n",
      "0-gaze-baseline-stat\n",
      "Subject 0-gaze-baseline-stat (3/5)\n",
      "EU\tSubject 1\tRun 1 of 1 (100%)\n",
      "0-glickman1layer\n",
      "Subject 0-glickman1layer (4/5)\n",
      "EU\tSubject 1\tRun 1 of 1 (100%)\n",
      "0-mdft\n",
      "Subject 0-mdft (5/5)\n",
      "EU\tSubject 1\tRun 1 of 1 (100%)\n",
      "PT: Parameter estimation...\n",
      "0-eu\n",
      "Subject 0-eu (6/5)\n",
      "PT\tSubject 1\tRun 1 of 1 (100%)\n",
      "0-gaze-baseline-dyn\n",
      "Subject 0-gaze-baseline-dyn (7/5)\n",
      "PT\tSubject 1\tRun 1 of 1 (100%)\n",
      "0-gaze-baseline-stat\n",
      "Subject 0-gaze-baseline-stat (8/5)\n",
      "PT\tSubject 1\tRun 1 of 1 (100%)\n",
      "0-glickman1layer\n",
      "Subject 0-glickman1layer (9/5)\n",
      "PT\tSubject 1\tRun 1 of 1 (100%)\n",
      "0-mdft\n",
      "Subject 0-mdft (10/5)\n",
      "PT\tSubject 1\tRun 1 of 1 (100%)\n",
      "MDFT: Parameter estimation...\n",
      "0-eu\n",
      "Subject 0-eu (11/5)\n",
      "MDFT\tSubject 1\tRun 1 of 1 (100%)\n"
     ]
    },
    {
     "name": "stderr",
     "output_type": "stream",
     "text": [
      "/Users/felixmolter/Desktop/gda-context/src/behavioural_models/mdft.py:177: IntegrationWarning: The algorithm does not converge.  Roundoff error is detected\n",
      "  in the extrapolation table.  It is assumed that the requested tolerance\n",
      "  cannot be achieved, and that the returned result (if full_output = 1) is \n",
      "  the best which can be obtained.\n",
      "  p2, abserror = quad(Fc, 0, r, args=(m1, m2, s1, s2))\n",
      "/Users/felixmolter/Desktop/gda-context/src/behavioural_models/mdft.py:59: RuntimeWarning: invalid value encountered in sqrt\n",
      "  s1 = np.sqrt(Lomega[0, 0])\n",
      "/Users/felixmolter/Desktop/gda-context/src/behavioural_models/mdft.py:60: RuntimeWarning: invalid value encountered in sqrt\n",
      "  s2 = np.sqrt(Lomega[1, 1])\n",
      "/Users/felixmolter/Desktop/gda-context/src/behavioural_models/mdft.py:177: IntegrationWarning: Extremely bad integrand behavior occurs at some points of the\n",
      "  integration interval.\n",
      "  p2, abserror = quad(Fc, 0, r, args=(m1, m2, s1, s2))\n",
      "/Users/felixmolter/Desktop/gda-context/src/behavioural_models/mdft.py:70: RuntimeWarning: invalid value encountered in sqrt\n",
      "  s1 = np.sqrt(Lomega[0, 0])\n",
      "/Users/felixmolter/Desktop/gda-context/src/behavioural_models/mdft.py:71: RuntimeWarning: invalid value encountered in sqrt\n",
      "  s2 = np.sqrt(Lomega[1, 1])\n",
      "/Users/felixmolter/Desktop/gda-context/src/behavioural_models/mdft.py:81: RuntimeWarning: invalid value encountered in sqrt\n",
      "  s1 = np.sqrt(Lomega[0, 0])\n",
      "/Users/felixmolter/Desktop/gda-context/src/behavioural_models/mdft.py:82: RuntimeWarning: invalid value encountered in sqrt\n",
      "  s2 = np.sqrt(Lomega[1, 1])\n",
      "/Users/felixmolter/Desktop/gda-context/src/behavioural_models/mdft.py:194: RuntimeWarning: invalid value encountered in sqrt\n",
      "  x = np.exp(-x) / (2 * np.pi * np.sqrt(1 - t**2))\n",
      "/Users/felixmolter/Desktop/gda-context/src/behavioural_models/mdft.py:177: IntegrationWarning: The occurrence of roundoff error is detected, which prevents \n",
      "  the requested tolerance from being achieved.  The error may be \n",
      "  underestimated.\n",
      "  p2, abserror = quad(Fc, 0, r, args=(m1, m2, s1, s2))\n"
     ]
    },
    {
     "ename": "KeyboardInterrupt",
     "evalue": "",
     "output_type": "error",
     "traceback": [
      "\u001b[0;31m---------------------------------------------------------------------------\u001b[0m",
      "\u001b[0;31mKeyboardInterrupt\u001b[0m                         Traceback (most recent call last)",
      "\u001b[0;32m<ipython-input-50-e6a9340ea482>\u001b[0m in \u001b[0;36m<module>\u001b[0;34m\u001b[0m\n\u001b[1;32m     16\u001b[0m             \u001b[0mprint\u001b[0m\u001b[0;34m(\u001b[0m\u001b[0;34m\"Subject {} ({}/{})\"\u001b[0m\u001b[0;34m.\u001b[0m\u001b[0mformat\u001b[0m\u001b[0;34m(\u001b[0m\u001b[0msubject\u001b[0m\u001b[0;34m,\u001b[0m \u001b[0ms\u001b[0m \u001b[0;34m+\u001b[0m \u001b[0;36m1\u001b[0m\u001b[0;34m,\u001b[0m \u001b[0mn_subjects\u001b[0m\u001b[0;34m)\u001b[0m\u001b[0;34m)\u001b[0m\u001b[0;34m\u001b[0m\u001b[0;34m\u001b[0m\u001b[0m\n\u001b[1;32m     17\u001b[0m             \u001b[0msubject_model\u001b[0m\u001b[0;34m.\u001b[0m\u001b[0msubject\u001b[0m \u001b[0;34m=\u001b[0m \u001b[0;36m1\u001b[0m\u001b[0;34m\u001b[0m\u001b[0;34m\u001b[0m\u001b[0m\n\u001b[0;32m---> 18\u001b[0;31m         \u001b[0mestimates\u001b[0m \u001b[0;34m=\u001b[0m \u001b[0mfit\u001b[0m\u001b[0;34m(\u001b[0m\u001b[0;34m(\u001b[0m\u001b[0msubject\u001b[0m\u001b[0;34m,\u001b[0m \u001b[0msubject_model\u001b[0m\u001b[0;34m)\u001b[0m\u001b[0;34m)\u001b[0m\u001b[0;34m\u001b[0m\u001b[0;34m\u001b[0m\u001b[0m\n\u001b[0m\u001b[1;32m     19\u001b[0m         \u001b[0mall_estimates\u001b[0m\u001b[0;34m.\u001b[0m\u001b[0mappend\u001b[0m\u001b[0;34m(\u001b[0m\u001b[0mestimates\u001b[0m\u001b[0;34m)\u001b[0m\u001b[0;34m\u001b[0m\u001b[0;34m\u001b[0m\u001b[0m\n\u001b[1;32m     20\u001b[0m \u001b[0;34m\u001b[0m\u001b[0m\n",
      "\u001b[0;32m<ipython-input-44-b0a0ca9c7013>\u001b[0m in \u001b[0;36mfit_subject_model\u001b[0;34m(variable_input, n_runs, optmethod, output_dir, label, seed, overwrite, verbose)\u001b[0m\n\u001b[1;32m     44\u001b[0m         )\n\u001b[1;32m     45\u001b[0m     \u001b[0;32melse\u001b[0m\u001b[0;34m:\u001b[0m\u001b[0;34m\u001b[0m\u001b[0;34m\u001b[0m\u001b[0m\n\u001b[0;32m---> 46\u001b[0;31m         estimates, nll = subject_model.fit(\n\u001b[0m\u001b[1;32m     47\u001b[0m             \u001b[0mmethod\u001b[0m\u001b[0;34m=\u001b[0m\u001b[0moptmethod\u001b[0m\u001b[0;34m,\u001b[0m \u001b[0mn_runs\u001b[0m\u001b[0;34m=\u001b[0m\u001b[0mn_runs\u001b[0m\u001b[0;34m,\u001b[0m \u001b[0mseed\u001b[0m\u001b[0;34m=\u001b[0m\u001b[0mseed\u001b[0m\u001b[0;34m,\u001b[0m \u001b[0mverbose\u001b[0m\u001b[0;34m=\u001b[0m\u001b[0mverbose\u001b[0m\u001b[0;34m\u001b[0m\u001b[0;34m\u001b[0m\u001b[0m\n\u001b[1;32m     48\u001b[0m         )\n",
      "\u001b[0;32m~/Desktop/gda-context/src/behavioural_models/models.py\u001b[0m in \u001b[0;36mfit\u001b[0;34m(self, method, n_runs, seed, verbose, **method_kwargs)\u001b[0m\n\u001b[1;32m     88\u001b[0m                 )\n\u001b[1;32m     89\u001b[0m             \u001b[0;32melif\u001b[0m \u001b[0mmethod\u001b[0m \u001b[0;34m==\u001b[0m \u001b[0;34m\"differential_evolution\"\u001b[0m\u001b[0;34m:\u001b[0m\u001b[0;34m\u001b[0m\u001b[0;34m\u001b[0m\u001b[0m\n\u001b[0;32m---> 90\u001b[0;31m                 result = differential_evolution(\n\u001b[0m\u001b[1;32m     91\u001b[0m                     \u001b[0mself\u001b[0m\u001b[0;34m.\u001b[0m\u001b[0mcompute_nll\u001b[0m\u001b[0;34m,\u001b[0m \u001b[0mbounds\u001b[0m\u001b[0;34m=\u001b[0m\u001b[0mself\u001b[0m\u001b[0;34m.\u001b[0m\u001b[0mparameter_bounds\u001b[0m\u001b[0;34m,\u001b[0m \u001b[0;34m**\u001b[0m\u001b[0mmethod_kwargs\u001b[0m\u001b[0;34m\u001b[0m\u001b[0;34m\u001b[0m\u001b[0m\n\u001b[1;32m     92\u001b[0m                 )\n",
      "\u001b[0;32m~/miniconda3/envs/gda-context/lib/python3.8/site-packages/scipy/optimize/_differentialevolution.py\u001b[0m in \u001b[0;36mdifferential_evolution\u001b[0;34m(func, bounds, args, strategy, maxiter, popsize, tol, mutation, recombination, seed, callback, disp, polish, init, atol, updating, workers, constraints)\u001b[0m\n\u001b[1;32m    306\u001b[0m                                      \u001b[0mworkers\u001b[0m\u001b[0;34m=\u001b[0m\u001b[0mworkers\u001b[0m\u001b[0;34m,\u001b[0m\u001b[0;34m\u001b[0m\u001b[0;34m\u001b[0m\u001b[0m\n\u001b[1;32m    307\u001b[0m                                      constraints=constraints) as solver:\n\u001b[0;32m--> 308\u001b[0;31m         \u001b[0mret\u001b[0m \u001b[0;34m=\u001b[0m \u001b[0msolver\u001b[0m\u001b[0;34m.\u001b[0m\u001b[0msolve\u001b[0m\u001b[0;34m(\u001b[0m\u001b[0;34m)\u001b[0m\u001b[0;34m\u001b[0m\u001b[0;34m\u001b[0m\u001b[0m\n\u001b[0m\u001b[1;32m    309\u001b[0m \u001b[0;34m\u001b[0m\u001b[0m\n\u001b[1;32m    310\u001b[0m     \u001b[0;32mreturn\u001b[0m \u001b[0mret\u001b[0m\u001b[0;34m\u001b[0m\u001b[0;34m\u001b[0m\u001b[0m\n",
      "\u001b[0;32m~/miniconda3/envs/gda-context/lib/python3.8/site-packages/scipy/optimize/_differentialevolution.py\u001b[0m in \u001b[0;36msolve\u001b[0;34m(self)\u001b[0m\n\u001b[1;32m    808\u001b[0m                                   \" infeasible solution\", UserWarning)\n\u001b[1;32m    809\u001b[0m \u001b[0;34m\u001b[0m\u001b[0m\n\u001b[0;32m--> 810\u001b[0;31m             result = minimize(self.func,\n\u001b[0m\u001b[1;32m    811\u001b[0m                               \u001b[0mnp\u001b[0m\u001b[0;34m.\u001b[0m\u001b[0mcopy\u001b[0m\u001b[0;34m(\u001b[0m\u001b[0mDE_result\u001b[0m\u001b[0;34m.\u001b[0m\u001b[0mx\u001b[0m\u001b[0;34m)\u001b[0m\u001b[0;34m,\u001b[0m\u001b[0;34m\u001b[0m\u001b[0;34m\u001b[0m\u001b[0m\n\u001b[1;32m    812\u001b[0m                               \u001b[0mmethod\u001b[0m\u001b[0;34m=\u001b[0m\u001b[0mpolish_method\u001b[0m\u001b[0;34m,\u001b[0m\u001b[0;34m\u001b[0m\u001b[0;34m\u001b[0m\u001b[0m\n",
      "\u001b[0;32m~/miniconda3/envs/gda-context/lib/python3.8/site-packages/scipy/optimize/_minimize.py\u001b[0m in \u001b[0;36mminimize\u001b[0;34m(fun, x0, args, method, jac, hess, hessp, bounds, constraints, tol, callback, options)\u001b[0m\n\u001b[1;32m    615\u001b[0m                                   **options)\n\u001b[1;32m    616\u001b[0m     \u001b[0;32melif\u001b[0m \u001b[0mmeth\u001b[0m \u001b[0;34m==\u001b[0m \u001b[0;34m'l-bfgs-b'\u001b[0m\u001b[0;34m:\u001b[0m\u001b[0;34m\u001b[0m\u001b[0;34m\u001b[0m\u001b[0m\n\u001b[0;32m--> 617\u001b[0;31m         return _minimize_lbfgsb(fun, x0, args, jac, bounds,\n\u001b[0m\u001b[1;32m    618\u001b[0m                                 callback=callback, **options)\n\u001b[1;32m    619\u001b[0m     \u001b[0;32melif\u001b[0m \u001b[0mmeth\u001b[0m \u001b[0;34m==\u001b[0m \u001b[0;34m'tnc'\u001b[0m\u001b[0;34m:\u001b[0m\u001b[0;34m\u001b[0m\u001b[0;34m\u001b[0m\u001b[0m\n",
      "\u001b[0;32m~/miniconda3/envs/gda-context/lib/python3.8/site-packages/scipy/optimize/lbfgsb.py\u001b[0m in \u001b[0;36m_minimize_lbfgsb\u001b[0;34m(fun, x0, args, jac, bounds, disp, maxcor, ftol, gtol, eps, maxfun, maxiter, iprint, callback, maxls, finite_diff_rel_step, **unknown_options)\u001b[0m\n\u001b[1;32m    358\u001b[0m             \u001b[0;31m# until the completion of the current minimization iteration.\u001b[0m\u001b[0;34m\u001b[0m\u001b[0;34m\u001b[0m\u001b[0;34m\u001b[0m\u001b[0m\n\u001b[1;32m    359\u001b[0m             \u001b[0;31m# Overwrite f and g:\u001b[0m\u001b[0;34m\u001b[0m\u001b[0;34m\u001b[0m\u001b[0;34m\u001b[0m\u001b[0m\n\u001b[0;32m--> 360\u001b[0;31m             \u001b[0mf\u001b[0m\u001b[0;34m,\u001b[0m \u001b[0mg\u001b[0m \u001b[0;34m=\u001b[0m \u001b[0mfunc_and_grad\u001b[0m\u001b[0;34m(\u001b[0m\u001b[0mx\u001b[0m\u001b[0;34m)\u001b[0m\u001b[0;34m\u001b[0m\u001b[0;34m\u001b[0m\u001b[0m\n\u001b[0m\u001b[1;32m    361\u001b[0m         \u001b[0;32melif\u001b[0m \u001b[0mtask_str\u001b[0m\u001b[0;34m.\u001b[0m\u001b[0mstartswith\u001b[0m\u001b[0;34m(\u001b[0m\u001b[0;34mb'NEW_X'\u001b[0m\u001b[0;34m)\u001b[0m\u001b[0;34m:\u001b[0m\u001b[0;34m\u001b[0m\u001b[0;34m\u001b[0m\u001b[0m\n\u001b[1;32m    362\u001b[0m             \u001b[0;31m# new iteration\u001b[0m\u001b[0;34m\u001b[0m\u001b[0;34m\u001b[0m\u001b[0;34m\u001b[0m\u001b[0m\n",
      "\u001b[0;32m~/miniconda3/envs/gda-context/lib/python3.8/site-packages/scipy/optimize/_differentiable_functions.py\u001b[0m in \u001b[0;36mfun_and_grad\u001b[0;34m(self, x)\u001b[0m\n\u001b[1;32m    199\u001b[0m             \u001b[0mself\u001b[0m\u001b[0;34m.\u001b[0m\u001b[0m_update_x_impl\u001b[0m\u001b[0;34m(\u001b[0m\u001b[0mx\u001b[0m\u001b[0;34m)\u001b[0m\u001b[0;34m\u001b[0m\u001b[0;34m\u001b[0m\u001b[0m\n\u001b[1;32m    200\u001b[0m         \u001b[0mself\u001b[0m\u001b[0;34m.\u001b[0m\u001b[0m_update_fun\u001b[0m\u001b[0;34m(\u001b[0m\u001b[0;34m)\u001b[0m\u001b[0;34m\u001b[0m\u001b[0;34m\u001b[0m\u001b[0m\n\u001b[0;32m--> 201\u001b[0;31m         \u001b[0mself\u001b[0m\u001b[0;34m.\u001b[0m\u001b[0m_update_grad\u001b[0m\u001b[0;34m(\u001b[0m\u001b[0;34m)\u001b[0m\u001b[0;34m\u001b[0m\u001b[0;34m\u001b[0m\u001b[0m\n\u001b[0m\u001b[1;32m    202\u001b[0m         \u001b[0;32mreturn\u001b[0m \u001b[0mself\u001b[0m\u001b[0;34m.\u001b[0m\u001b[0mf\u001b[0m\u001b[0;34m,\u001b[0m \u001b[0mself\u001b[0m\u001b[0;34m.\u001b[0m\u001b[0mg\u001b[0m\u001b[0;34m\u001b[0m\u001b[0;34m\u001b[0m\u001b[0m\n\u001b[1;32m    203\u001b[0m \u001b[0;34m\u001b[0m\u001b[0m\n",
      "\u001b[0;32m~/miniconda3/envs/gda-context/lib/python3.8/site-packages/scipy/optimize/_differentiable_functions.py\u001b[0m in \u001b[0;36m_update_grad\u001b[0;34m(self)\u001b[0m\n\u001b[1;32m    169\u001b[0m     \u001b[0;32mdef\u001b[0m \u001b[0m_update_grad\u001b[0m\u001b[0;34m(\u001b[0m\u001b[0mself\u001b[0m\u001b[0;34m)\u001b[0m\u001b[0;34m:\u001b[0m\u001b[0;34m\u001b[0m\u001b[0;34m\u001b[0m\u001b[0m\n\u001b[1;32m    170\u001b[0m         \u001b[0;32mif\u001b[0m \u001b[0;32mnot\u001b[0m \u001b[0mself\u001b[0m\u001b[0;34m.\u001b[0m\u001b[0mg_updated\u001b[0m\u001b[0;34m:\u001b[0m\u001b[0;34m\u001b[0m\u001b[0;34m\u001b[0m\u001b[0m\n\u001b[0;32m--> 171\u001b[0;31m             \u001b[0mself\u001b[0m\u001b[0;34m.\u001b[0m\u001b[0m_update_grad_impl\u001b[0m\u001b[0;34m(\u001b[0m\u001b[0;34m)\u001b[0m\u001b[0;34m\u001b[0m\u001b[0;34m\u001b[0m\u001b[0m\n\u001b[0m\u001b[1;32m    172\u001b[0m             \u001b[0mself\u001b[0m\u001b[0;34m.\u001b[0m\u001b[0mg_updated\u001b[0m \u001b[0;34m=\u001b[0m \u001b[0;32mTrue\u001b[0m\u001b[0;34m\u001b[0m\u001b[0;34m\u001b[0m\u001b[0m\n\u001b[1;32m    173\u001b[0m \u001b[0;34m\u001b[0m\u001b[0m\n",
      "\u001b[0;32m~/miniconda3/envs/gda-context/lib/python3.8/site-packages/scipy/optimize/_differentiable_functions.py\u001b[0m in \u001b[0;36mupdate_grad\u001b[0;34m()\u001b[0m\n\u001b[1;32m     89\u001b[0m                 \u001b[0mself\u001b[0m\u001b[0;34m.\u001b[0m\u001b[0m_update_fun\u001b[0m\u001b[0;34m(\u001b[0m\u001b[0;34m)\u001b[0m\u001b[0;34m\u001b[0m\u001b[0;34m\u001b[0m\u001b[0m\n\u001b[1;32m     90\u001b[0m                 \u001b[0mself\u001b[0m\u001b[0;34m.\u001b[0m\u001b[0mngev\u001b[0m \u001b[0;34m+=\u001b[0m \u001b[0;36m1\u001b[0m\u001b[0;34m\u001b[0m\u001b[0;34m\u001b[0m\u001b[0m\n\u001b[0;32m---> 91\u001b[0;31m                 self.g = approx_derivative(fun_wrapped, self.x, f0=self.f,\n\u001b[0m\u001b[1;32m     92\u001b[0m                                            **finite_diff_options)\n\u001b[1;32m     93\u001b[0m \u001b[0;34m\u001b[0m\u001b[0m\n",
      "\u001b[0;32m~/miniconda3/envs/gda-context/lib/python3.8/site-packages/scipy/optimize/_numdiff.py\u001b[0m in \u001b[0;36mapprox_derivative\u001b[0;34m(fun, x0, method, rel_step, abs_step, f0, bounds, sparsity, as_linear_operator, args, kwargs)\u001b[0m\n\u001b[1;32m    424\u001b[0m \u001b[0;34m\u001b[0m\u001b[0m\n\u001b[1;32m    425\u001b[0m         \u001b[0;32mif\u001b[0m \u001b[0msparsity\u001b[0m \u001b[0;32mis\u001b[0m \u001b[0;32mNone\u001b[0m\u001b[0;34m:\u001b[0m\u001b[0;34m\u001b[0m\u001b[0;34m\u001b[0m\u001b[0m\n\u001b[0;32m--> 426\u001b[0;31m             return _dense_difference(fun_wrapped, x0, f0, h,\n\u001b[0m\u001b[1;32m    427\u001b[0m                                      use_one_sided, method)\n\u001b[1;32m    428\u001b[0m         \u001b[0;32melse\u001b[0m\u001b[0;34m:\u001b[0m\u001b[0;34m\u001b[0m\u001b[0;34m\u001b[0m\u001b[0m\n",
      "\u001b[0;32m~/miniconda3/envs/gda-context/lib/python3.8/site-packages/scipy/optimize/_numdiff.py\u001b[0m in \u001b[0;36m_dense_difference\u001b[0;34m(fun, x0, f0, h, use_one_sided, method)\u001b[0m\n\u001b[1;32m    495\u001b[0m             \u001b[0mx\u001b[0m \u001b[0;34m=\u001b[0m \u001b[0mx0\u001b[0m \u001b[0;34m+\u001b[0m \u001b[0mh_vecs\u001b[0m\u001b[0;34m[\u001b[0m\u001b[0mi\u001b[0m\u001b[0;34m]\u001b[0m\u001b[0;34m\u001b[0m\u001b[0;34m\u001b[0m\u001b[0m\n\u001b[1;32m    496\u001b[0m             \u001b[0mdx\u001b[0m \u001b[0;34m=\u001b[0m \u001b[0mx\u001b[0m\u001b[0;34m[\u001b[0m\u001b[0mi\u001b[0m\u001b[0;34m]\u001b[0m \u001b[0;34m-\u001b[0m \u001b[0mx0\u001b[0m\u001b[0;34m[\u001b[0m\u001b[0mi\u001b[0m\u001b[0;34m]\u001b[0m  \u001b[0;31m# Recompute dx as exactly representable number.\u001b[0m\u001b[0;34m\u001b[0m\u001b[0;34m\u001b[0m\u001b[0m\n\u001b[0;32m--> 497\u001b[0;31m             \u001b[0mdf\u001b[0m \u001b[0;34m=\u001b[0m \u001b[0mfun\u001b[0m\u001b[0;34m(\u001b[0m\u001b[0mx\u001b[0m\u001b[0;34m)\u001b[0m \u001b[0;34m-\u001b[0m \u001b[0mf0\u001b[0m\u001b[0;34m\u001b[0m\u001b[0;34m\u001b[0m\u001b[0m\n\u001b[0m\u001b[1;32m    498\u001b[0m         \u001b[0;32melif\u001b[0m \u001b[0mmethod\u001b[0m \u001b[0;34m==\u001b[0m \u001b[0;34m'3-point'\u001b[0m \u001b[0;32mand\u001b[0m \u001b[0muse_one_sided\u001b[0m\u001b[0;34m[\u001b[0m\u001b[0mi\u001b[0m\u001b[0;34m]\u001b[0m\u001b[0;34m:\u001b[0m\u001b[0;34m\u001b[0m\u001b[0;34m\u001b[0m\u001b[0m\n\u001b[1;32m    499\u001b[0m             \u001b[0mx1\u001b[0m \u001b[0;34m=\u001b[0m \u001b[0mx0\u001b[0m \u001b[0;34m+\u001b[0m \u001b[0mh_vecs\u001b[0m\u001b[0;34m[\u001b[0m\u001b[0mi\u001b[0m\u001b[0;34m]\u001b[0m\u001b[0;34m\u001b[0m\u001b[0;34m\u001b[0m\u001b[0m\n",
      "\u001b[0;32m~/miniconda3/envs/gda-context/lib/python3.8/site-packages/scipy/optimize/_numdiff.py\u001b[0m in \u001b[0;36mfun_wrapped\u001b[0;34m(x)\u001b[0m\n\u001b[1;32m    375\u001b[0m \u001b[0;34m\u001b[0m\u001b[0m\n\u001b[1;32m    376\u001b[0m     \u001b[0;32mdef\u001b[0m \u001b[0mfun_wrapped\u001b[0m\u001b[0;34m(\u001b[0m\u001b[0mx\u001b[0m\u001b[0;34m)\u001b[0m\u001b[0;34m:\u001b[0m\u001b[0;34m\u001b[0m\u001b[0;34m\u001b[0m\u001b[0m\n\u001b[0;32m--> 377\u001b[0;31m         \u001b[0mf\u001b[0m \u001b[0;34m=\u001b[0m \u001b[0mnp\u001b[0m\u001b[0;34m.\u001b[0m\u001b[0matleast_1d\u001b[0m\u001b[0;34m(\u001b[0m\u001b[0mfun\u001b[0m\u001b[0;34m(\u001b[0m\u001b[0mx\u001b[0m\u001b[0;34m,\u001b[0m \u001b[0;34m*\u001b[0m\u001b[0margs\u001b[0m\u001b[0;34m,\u001b[0m \u001b[0;34m**\u001b[0m\u001b[0mkwargs\u001b[0m\u001b[0;34m)\u001b[0m\u001b[0;34m)\u001b[0m\u001b[0;34m\u001b[0m\u001b[0;34m\u001b[0m\u001b[0m\n\u001b[0m\u001b[1;32m    378\u001b[0m         \u001b[0;32mif\u001b[0m \u001b[0mf\u001b[0m\u001b[0;34m.\u001b[0m\u001b[0mndim\u001b[0m \u001b[0;34m>\u001b[0m \u001b[0;36m1\u001b[0m\u001b[0;34m:\u001b[0m\u001b[0;34m\u001b[0m\u001b[0;34m\u001b[0m\u001b[0m\n\u001b[1;32m    379\u001b[0m             raise RuntimeError(\"`fun` return value has \"\n",
      "\u001b[0;32m~/miniconda3/envs/gda-context/lib/python3.8/site-packages/scipy/optimize/_differentiable_functions.py\u001b[0m in \u001b[0;36mfun_wrapped\u001b[0;34m(x)\u001b[0m\n\u001b[1;32m     68\u001b[0m         \u001b[0;32mdef\u001b[0m \u001b[0mfun_wrapped\u001b[0m\u001b[0;34m(\u001b[0m\u001b[0mx\u001b[0m\u001b[0;34m)\u001b[0m\u001b[0;34m:\u001b[0m\u001b[0;34m\u001b[0m\u001b[0;34m\u001b[0m\u001b[0m\n\u001b[1;32m     69\u001b[0m             \u001b[0mself\u001b[0m\u001b[0;34m.\u001b[0m\u001b[0mnfev\u001b[0m \u001b[0;34m+=\u001b[0m \u001b[0;36m1\u001b[0m\u001b[0;34m\u001b[0m\u001b[0;34m\u001b[0m\u001b[0m\n\u001b[0;32m---> 70\u001b[0;31m             \u001b[0;32mreturn\u001b[0m \u001b[0mfun\u001b[0m\u001b[0;34m(\u001b[0m\u001b[0mx\u001b[0m\u001b[0;34m,\u001b[0m \u001b[0;34m*\u001b[0m\u001b[0margs\u001b[0m\u001b[0;34m)\u001b[0m\u001b[0;34m\u001b[0m\u001b[0;34m\u001b[0m\u001b[0m\n\u001b[0m\u001b[1;32m     71\u001b[0m \u001b[0;34m\u001b[0m\u001b[0m\n\u001b[1;32m     72\u001b[0m         \u001b[0;32mdef\u001b[0m \u001b[0mupdate_fun\u001b[0m\u001b[0;34m(\u001b[0m\u001b[0;34m)\u001b[0m\u001b[0;34m:\u001b[0m\u001b[0;34m\u001b[0m\u001b[0;34m\u001b[0m\u001b[0m\n",
      "\u001b[0;32m~/miniconda3/envs/gda-context/lib/python3.8/site-packages/scipy/optimize/_differentialevolution.py\u001b[0m in \u001b[0;36m__call__\u001b[0;34m(self, x)\u001b[0m\n\u001b[1;32m   1259\u001b[0m \u001b[0;34m\u001b[0m\u001b[0m\n\u001b[1;32m   1260\u001b[0m     \u001b[0;32mdef\u001b[0m \u001b[0m__call__\u001b[0m\u001b[0;34m(\u001b[0m\u001b[0mself\u001b[0m\u001b[0;34m,\u001b[0m \u001b[0mx\u001b[0m\u001b[0;34m)\u001b[0m\u001b[0;34m:\u001b[0m\u001b[0;34m\u001b[0m\u001b[0;34m\u001b[0m\u001b[0m\n\u001b[0;32m-> 1261\u001b[0;31m         \u001b[0;32mreturn\u001b[0m \u001b[0mself\u001b[0m\u001b[0;34m.\u001b[0m\u001b[0mf\u001b[0m\u001b[0;34m(\u001b[0m\u001b[0mx\u001b[0m\u001b[0;34m,\u001b[0m \u001b[0;34m*\u001b[0m\u001b[0mself\u001b[0m\u001b[0;34m.\u001b[0m\u001b[0margs\u001b[0m\u001b[0;34m)\u001b[0m\u001b[0;34m\u001b[0m\u001b[0;34m\u001b[0m\u001b[0m\n\u001b[0m\u001b[1;32m   1262\u001b[0m \u001b[0;34m\u001b[0m\u001b[0m\n\u001b[1;32m   1263\u001b[0m \u001b[0;34m\u001b[0m\u001b[0m\n",
      "\u001b[0;32m~/Desktop/gda-context/src/behavioural_models/models.py\u001b[0m in \u001b[0;36mcompute_nll\u001b[0;34m(self, parameters, verbose, nonzeroconst)\u001b[0m\n\u001b[1;32m     21\u001b[0m     \u001b[0;32mdef\u001b[0m \u001b[0mcompute_nll\u001b[0m\u001b[0;34m(\u001b[0m\u001b[0mself\u001b[0m\u001b[0;34m,\u001b[0m \u001b[0mparameters\u001b[0m\u001b[0;34m,\u001b[0m \u001b[0mverbose\u001b[0m\u001b[0;34m=\u001b[0m\u001b[0;32mFalse\u001b[0m\u001b[0;34m,\u001b[0m \u001b[0mnonzeroconst\u001b[0m\u001b[0;34m=\u001b[0m\u001b[0;36m1e-6\u001b[0m\u001b[0;34m)\u001b[0m\u001b[0;34m:\u001b[0m\u001b[0;34m\u001b[0m\u001b[0;34m\u001b[0m\u001b[0m\n\u001b[1;32m     22\u001b[0m         \u001b[0;34m\"\"\"Compute negative log-likelihood of the data, given parameters.\"\"\"\u001b[0m\u001b[0;34m\u001b[0m\u001b[0;34m\u001b[0m\u001b[0m\n\u001b[0;32m---> 23\u001b[0;31m         \u001b[0mchoiceprobs\u001b[0m \u001b[0;34m=\u001b[0m \u001b[0mself\u001b[0m\u001b[0;34m.\u001b[0m\u001b[0mpredict_choiceprobs\u001b[0m\u001b[0;34m(\u001b[0m\u001b[0mparameters\u001b[0m\u001b[0;34m)\u001b[0m\u001b[0;34m\u001b[0m\u001b[0;34m\u001b[0m\u001b[0m\n\u001b[0m\u001b[1;32m     24\u001b[0m         chosenprobs = choiceprobs[\n\u001b[1;32m     25\u001b[0m             \u001b[0mnp\u001b[0m\u001b[0;34m.\u001b[0m\u001b[0marange\u001b[0m\u001b[0;34m(\u001b[0m\u001b[0mchoiceprobs\u001b[0m\u001b[0;34m.\u001b[0m\u001b[0mshape\u001b[0m\u001b[0;34m[\u001b[0m\u001b[0;36m0\u001b[0m\u001b[0;34m]\u001b[0m\u001b[0;34m)\u001b[0m\u001b[0;34m.\u001b[0m\u001b[0mastype\u001b[0m\u001b[0;34m(\u001b[0m\u001b[0mint\u001b[0m\u001b[0;34m)\u001b[0m\u001b[0;34m,\u001b[0m \u001b[0mself\u001b[0m\u001b[0;34m.\u001b[0m\u001b[0mchoices\u001b[0m\u001b[0;34m.\u001b[0m\u001b[0mastype\u001b[0m\u001b[0;34m(\u001b[0m\u001b[0mint\u001b[0m\u001b[0;34m)\u001b[0m\u001b[0;34m\u001b[0m\u001b[0;34m\u001b[0m\u001b[0m\n",
      "\u001b[0;32m~/Desktop/gda-context/src/behavioural_models/mdft.py\u001b[0m in \u001b[0;36mpredict_choiceprobs\u001b[0;34m(self, parameters)\u001b[0m\n\u001b[1;32m     50\u001b[0m                 \u001b[0ms\u001b[0m \u001b[0;34m=\u001b[0m \u001b[0mmake_S\u001b[0m\u001b[0;34m(\u001b[0m\u001b[0mm\u001b[0m\u001b[0;34m,\u001b[0m \u001b[0mphi1\u001b[0m\u001b[0;34m,\u001b[0m \u001b[0mphi2\u001b[0m\u001b[0;34m,\u001b[0m \u001b[0mw\u001b[0m\u001b[0;34m,\u001b[0m \u001b[0mwd\u001b[0m\u001b[0;34m)\u001b[0m\u001b[0;34m\u001b[0m\u001b[0;34m\u001b[0m\u001b[0m\n\u001b[1;32m     51\u001b[0m                 \u001b[0mp_trial\u001b[0m \u001b[0;34m=\u001b[0m \u001b[0mnp\u001b[0m\u001b[0;34m.\u001b[0m\u001b[0mzeros\u001b[0m\u001b[0;34m(\u001b[0m\u001b[0mn_items\u001b[0m\u001b[0;34m)\u001b[0m\u001b[0;34m\u001b[0m\u001b[0;34m\u001b[0m\u001b[0m\n\u001b[0;32m---> 52\u001b[0;31m                 \u001b[0meta\u001b[0m\u001b[0;34m,\u001b[0m \u001b[0momega\u001b[0m \u001b[0;34m=\u001b[0m \u001b[0mdyn\u001b[0m\u001b[0;34m(\u001b[0m\u001b[0ms\u001b[0m\u001b[0;34m,\u001b[0m \u001b[0mC\u001b[0m\u001b[0;34m,\u001b[0m \u001b[0mm\u001b[0m\u001b[0;34m,\u001b[0m \u001b[0mW\u001b[0m\u001b[0;34m,\u001b[0m \u001b[0msig2\u001b[0m\u001b[0;34m)\u001b[0m\u001b[0;34m\u001b[0m\u001b[0;34m\u001b[0m\u001b[0m\n\u001b[0m\u001b[1;32m     53\u001b[0m                 \u001b[0;31m# A\u001b[0m\u001b[0;34m\u001b[0m\u001b[0;34m\u001b[0m\u001b[0;34m\u001b[0m\u001b[0m\n\u001b[1;32m     54\u001b[0m                 \u001b[0mL\u001b[0m \u001b[0;34m=\u001b[0m \u001b[0mnp\u001b[0m\u001b[0;34m.\u001b[0m\u001b[0marray\u001b[0m\u001b[0;34m(\u001b[0m\u001b[0;34m[\u001b[0m\u001b[0;34m[\u001b[0m\u001b[0;36m1\u001b[0m\u001b[0;34m,\u001b[0m \u001b[0;34m-\u001b[0m\u001b[0;36m1\u001b[0m\u001b[0;34m,\u001b[0m \u001b[0;36m0\u001b[0m\u001b[0;34m]\u001b[0m\u001b[0;34m,\u001b[0m \u001b[0;34m[\u001b[0m\u001b[0;36m1\u001b[0m\u001b[0;34m,\u001b[0m \u001b[0;36m0\u001b[0m\u001b[0;34m,\u001b[0m \u001b[0;34m-\u001b[0m\u001b[0;36m1\u001b[0m\u001b[0;34m]\u001b[0m\u001b[0;34m]\u001b[0m\u001b[0;34m)\u001b[0m\u001b[0;34m\u001b[0m\u001b[0;34m\u001b[0m\u001b[0m\n",
      "\u001b[0;32m~/Desktop/gda-context/src/behavioural_models/mdft.py\u001b[0m in \u001b[0;36mdyn\u001b[0;34m(S, C, m, W, sig2, t)\u001b[0m\n\u001b[1;32m    160\u001b[0m         \u001b[0msi\u001b[0m \u001b[0;34m=\u001b[0m \u001b[0mS\u001b[0m \u001b[0;34m@\u001b[0m \u001b[0msi\u001b[0m  \u001b[0;31m# does not do anything?\u001b[0m\u001b[0;34m\u001b[0m\u001b[0;34m\u001b[0m\u001b[0m\n\u001b[1;32m    161\u001b[0m         \u001b[0meta\u001b[0m \u001b[0;34m=\u001b[0m \u001b[0meta\u001b[0m \u001b[0;34m+\u001b[0m \u001b[0mrt\u001b[0m \u001b[0;34m*\u001b[0m \u001b[0msi\u001b[0m \u001b[0;34m@\u001b[0m \u001b[0mmu\u001b[0m\u001b[0;34m\u001b[0m\u001b[0;34m\u001b[0m\u001b[0m\n\u001b[0;32m--> 162\u001b[0;31m         \u001b[0momega\u001b[0m \u001b[0;34m=\u001b[0m \u001b[0momega\u001b[0m \u001b[0;34m+\u001b[0m \u001b[0;34m(\u001b[0m\u001b[0mrt\u001b[0m\u001b[0;34m**\u001b[0m\u001b[0;36m2\u001b[0m\u001b[0;34m)\u001b[0m \u001b[0;34m*\u001b[0m \u001b[0msi\u001b[0m \u001b[0;34m@\u001b[0m \u001b[0mPhi\u001b[0m \u001b[0;34m@\u001b[0m \u001b[0msi\u001b[0m\u001b[0;34m.\u001b[0m\u001b[0mT\u001b[0m\u001b[0;34m\u001b[0m\u001b[0;34m\u001b[0m\u001b[0m\n\u001b[0m\u001b[1;32m    163\u001b[0m \u001b[0;34m\u001b[0m\u001b[0m\n\u001b[1;32m    164\u001b[0m     \u001b[0;32mreturn\u001b[0m \u001b[0meta\u001b[0m\u001b[0;34m,\u001b[0m \u001b[0momega\u001b[0m\u001b[0;34m\u001b[0m\u001b[0;34m\u001b[0m\u001b[0m\n",
      "\u001b[0;31mKeyboardInterrupt\u001b[0m: "
     ]
    }
   ],
   "source": [
    "# Run fitting in parallel if multiple cores specified\n",
    "if N_CORES > 1:\n",
    "    from multiprocessing import Pool\n",
    "\n",
    "    pool = Pool(N_CORES)\n",
    "    # next line can use `map`, then outputs work fine, or `imap_unordered` which maps better, but messes with output concatenation.\n",
    "    results = pool.map(fit, input_generator(trials_synth, subjects, models, VERBOSE))\n",
    "    all_estimates = [result for result in results]\n",
    "# otherwise sequential\n",
    "else:\n",
    "    all_estimates = []\n",
    "    for s, (subject, subject_model) in enumerate(\n",
    "        input_generator(trials_synth, subjects, models, VERBOSE)\n",
    "    ):\n",
    "        if VERBOSE > 0:\n",
    "            print(\"Subject {} ({}/{})\".format(subject, s + 1, n_subjects))\n",
    "            subject_model.subject = 1\n",
    "        estimates = fit((subject, subject_model))\n",
    "        all_estimates.append(estimates)\n",
    "\n",
    "# Collect and save results\n",
    "all_estimates_output_path = join(OUTPUT_DIR, \"estimates\", \"estimates{}.csv\").format(\n",
    "    LABEL\n",
    ")\n",
    "all_estimates = pd.concat(all_estimates, sort=True)\n",
    "all_estimates.to_csv(all_estimates_output_path, index=False)"
   ]
  },
  {
   "cell_type": "code",
   "execution_count": 52,
   "metadata": {},
   "outputs": [
    {
     "data": {
      "text/plain": [
       "Index(['subject', 'block', 'trial', 'effect', 'target', 'pA', 'pB', 'pC', 'mA',\n",
       "       'mB', 'mC', 'dwell_A', 'dwell_B', 'dwell_C', 'dwell_p', 'dwell_m',\n",
       "       'dwell_Ap', 'dwell_Am', 'dwell_Bp', 'dwell_Bm', 'dwell_Cp', 'dwell_Cm',\n",
       "       'dwell_total', 'dwell_target', 'dwell_competitor', 'dwell_decoy',\n",
       "       'fixated_alternatives', 'fixated_attributes', 'fixation_durations',\n",
       "       'choice', 'predicted_choiceprob_A', 'predicted_choiceprob_B',\n",
       "       'predicted_choiceprob_C', 'alpha_gen', 'beta_gen', 'gamma_gen', 'w_gen',\n",
       "       'wd_gen', 'phi1_gen', 'phi2_gen', 'sig2_gen', 'lam_gen', 'theta_gen'],\n",
       "      dtype='object')"
      ]
     },
     "execution_count": 52,
     "metadata": {},
     "output_type": "execute_result"
    }
   ],
   "source": [
    "trials_synth.columns"
   ]
  },
  {
   "cell_type": "code",
   "execution_count": 54,
   "metadata": {},
   "outputs": [
    {
     "data": {
      "text/plain": [
       "'[1 0 0 0 0 0 0 0 1 1 1 1 2 2 2 2 2 1 1 1 1 0 0 0 0 1 1 2 2 1]'"
      ]
     },
     "execution_count": 54,
     "metadata": {},
     "output_type": "execute_result"
    }
   ],
   "source": [
    "trials_synth[\"fixated_alternatives\"][0]"
   ]
  },
  {
   "cell_type": "code",
   "execution_count": 62,
   "metadata": {},
   "outputs": [
    {
     "data": {
      "text/plain": [
       "array([1, 0, 0])"
      ]
     },
     "execution_count": 62,
     "metadata": {},
     "output_type": "execute_result"
    }
   ],
   "source": [
    "np.fromstring(\"1 0 0\", sep=\" \", dtype=int)"
   ]
  },
  {
   "cell_type": "code",
   "execution_count": 63,
   "metadata": {},
   "outputs": [
    {
     "data": {
      "text/plain": [
       "array([1, 0, 0, 0, 0, 0, 0, 0, 1, 1, 1, 1, 2, 2, 2, 2, 2, 1, 1, 1, 1, 0,\n",
       "       0, 0, 0, 1, 1, 2, 2, 1])"
      ]
     },
     "execution_count": 63,
     "metadata": {},
     "output_type": "execute_result"
    }
   ],
   "source": [
    "np.fromstring(trials_synth[\"fixated_alternatives\"][0][1:-1], sep=\" \", dtype=int)"
   ]
  },
  {
   "cell_type": "code",
   "execution_count": 65,
   "metadata": {},
   "outputs": [
    {
     "data": {
      "text/plain": [
       "0        [1, 0, 0, 0, 0, 0, 0, 0, 1, 1, 1, 1, 2, 2, 2, ...\n",
       "1        [2, 2, 1, 1, 1, 1, 1, 1, 1, 1, 1, 1, 1, 1, 1, ...\n",
       "2        [1, 2, 2, 2, 2, 2, 2, 2, 1, 1, 1, 2, 2, 2, 2, ...\n",
       "3        [2, 0, 0, 0, 0, 2, 2, 2, 2, 2, 1, 1, 1, 1, 1, ...\n",
       "4        [2, 0, 0, 0, 0, 0, 2, 2, 1, 1, 2, 0, 2, 0, 1, ...\n",
       "                               ...                        \n",
       "53929    [2, 1, 1, 1, 2, 0, 2, 2, 2, 0, 0, 1, 1, 1, 1, ...\n",
       "53930    [0, 1, 1, 1, 1, 1, 1, 0, 0, 0, 0, 1, 1, 0, 0, ...\n",
       "53931    [0, 1, 2, 2, 2, 2, 2, 0, 0, 2, 0, 0, 0, 0, 0, ...\n",
       "53932    [0, 1, 0, 1, 1, 0, 0, 0, 2, 2, 0, 2, 2, 0, 1, ...\n",
       "53933    [2, 2, 2, 2, 2, 0, 0, 0, 0, 1, 1, 0, 0, 0, 0, ...\n",
       "Name: fixated_alternatives, Length: 53934, dtype: object"
      ]
     },
     "execution_count": 65,
     "metadata": {},
     "output_type": "execute_result"
    }
   ],
   "source": []
  },
  {
   "cell_type": "code",
   "execution_count": null,
   "metadata": {},
   "outputs": [],
   "source": []
  }
 ],
 "metadata": {
  "kernelspec": {
   "display_name": "Python 3",
   "language": "python",
   "name": "python3"
  },
  "language_info": {
   "codemirror_mode": {
    "name": "ipython",
    "version": 3
   },
   "file_extension": ".py",
   "mimetype": "text/x-python",
   "name": "python",
   "nbconvert_exporter": "python",
   "pygments_lexer": "ipython3",
   "version": "3.8.6"
  }
 },
 "nbformat": 4,
 "nbformat_minor": 4
}
